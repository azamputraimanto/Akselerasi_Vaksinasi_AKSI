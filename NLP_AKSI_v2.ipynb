{
  "nbformat": 4,
  "nbformat_minor": 0,
  "metadata": {
    "colab": {
      "name": "NLP_AKSI v2",
      "provenance": []
    },
    "kernelspec": {
      "name": "python3",
      "display_name": "Python 3"
    },
    "language_info": {
      "name": "python"
    }
  },
  "cells": [
    {
      "cell_type": "code",
      "metadata": {
        "id": "b8PcF10anQLY"
      },
      "source": [
        "import pandas as pd\n",
        "import numpy as np"
      ],
      "execution_count": null,
      "outputs": []
    },
    {
      "cell_type": "code",
      "metadata": {
        "colab": {
          "base_uri": "https://localhost:8080/",
          "height": 212
        },
        "id": "Phw9EyQUnT6i",
        "outputId": "5b57d4f9-c444-4010-a020-662aebc178d6"
      },
      "source": [
        "df = pd.read_csv('/content/2021DATASETNEW.csv', usecols=[\"SYMPTOM0\", \"DIED\"]).dropna()\n",
        "print(df.shape)\n",
        "df.head()"
      ],
      "execution_count": null,
      "outputs": [
        {
          "output_type": "stream",
          "text": [
            "(31513, 2)\n"
          ],
          "name": "stdout"
        },
        {
          "output_type": "execute_result",
          "data": {
            "text/html": [
              "<div>\n",
              "<style scoped>\n",
              "    .dataframe tbody tr th:only-of-type {\n",
              "        vertical-align: middle;\n",
              "    }\n",
              "\n",
              "    .dataframe tbody tr th {\n",
              "        vertical-align: top;\n",
              "    }\n",
              "\n",
              "    .dataframe thead th {\n",
              "        text-align: right;\n",
              "    }\n",
              "</style>\n",
              "<table border=\"1\" class=\"dataframe\">\n",
              "  <thead>\n",
              "    <tr style=\"text-align: right;\">\n",
              "      <th></th>\n",
              "      <th>SYMPTOM0</th>\n",
              "      <th>DIED</th>\n",
              "    </tr>\n",
              "  </thead>\n",
              "  <tbody>\n",
              "    <tr>\n",
              "      <th>0</th>\n",
              "      <td>Product administered to patient of inappropria...</td>\n",
              "      <td>N</td>\n",
              "    </tr>\n",
              "    <tr>\n",
              "      <th>1</th>\n",
              "      <td>Product administered to patient of inappropria...</td>\n",
              "      <td>N</td>\n",
              "    </tr>\n",
              "    <tr>\n",
              "      <th>2</th>\n",
              "      <td>Contusion Product administered to patient of i...</td>\n",
              "      <td>N</td>\n",
              "    </tr>\n",
              "    <tr>\n",
              "      <th>3</th>\n",
              "      <td>No adverse event Product administered to patie...</td>\n",
              "      <td>N</td>\n",
              "    </tr>\n",
              "    <tr>\n",
              "      <th>4</th>\n",
              "      <td>Product administered to patient of inappropria...</td>\n",
              "      <td>N</td>\n",
              "    </tr>\n",
              "  </tbody>\n",
              "</table>\n",
              "</div>"
            ],
            "text/plain": [
              "                                            SYMPTOM0 DIED\n",
              "0  Product administered to patient of inappropria...    N\n",
              "1  Product administered to patient of inappropria...    N\n",
              "2  Contusion Product administered to patient of i...    N\n",
              "3  No adverse event Product administered to patie...    N\n",
              "4  Product administered to patient of inappropria...    N"
            ]
          },
          "metadata": {
            "tags": []
          },
          "execution_count": 2
        }
      ]
    },
    {
      "cell_type": "code",
      "metadata": {
        "colab": {
          "base_uri": "https://localhost:8080/"
        },
        "id": "TqutqS9KnYKv",
        "outputId": "f6b4d1cc-2c5e-4984-a0b8-cbc4db383289"
      },
      "source": [
        "from sklearn.model_selection import train_test_split\n",
        "\n",
        "target = df['DIED']\n",
        "\n",
        "X_train, X_test, y_train, y_test = train_test_split(df['SYMPTOM0'], target, test_size=0.30, random_state=100)\n",
        "\n",
        "print(df.shape); print(X_train.shape); print(X_test.shape)"
      ],
      "execution_count": null,
      "outputs": [
        {
          "output_type": "stream",
          "text": [
            "(31513, 2)\n",
            "(22059,)\n",
            "(9454,)\n"
          ],
          "name": "stdout"
        }
      ]
    },
    {
      "cell_type": "code",
      "metadata": {
        "colab": {
          "base_uri": "https://localhost:8080/"
        },
        "id": "Jva3JgR7nbpJ",
        "outputId": "ded6c41e-ebea-4a93-bbbe-6d94b0fa660b"
      },
      "source": [
        "from sklearn.feature_extraction.text import TfidfVectorizer\n",
        "\n",
        "vectorizer_tfidf = TfidfVectorizer(stop_words='english', max_df=0.7)\n",
        "\n",
        "train_tfIdf = vectorizer_tfidf.fit_transform(X_train.values.astype('U'))\n",
        "\n",
        "test_tfIdf = vectorizer_tfidf.transform(X_test.values.astype('U'))\n",
        "\n",
        "print(vectorizer_tfidf.get_feature_names()[:10])"
      ],
      "execution_count": null,
      "outputs": [
        {
          "output_type": "stream",
          "text": [
            "['19', '25', 'abdomen', 'abdominal', 'ability', 'ablation', 'abnormal', 'abnormality', 'aborted', 'abortion']\n"
          ],
          "name": "stdout"
        }
      ]
    },
    {
      "cell_type": "code",
      "metadata": {
        "colab": {
          "base_uri": "https://localhost:8080/"
        },
        "id": "b7bGfTV6nkrN",
        "outputId": "40689efc-440f-4e82-f3cb-4ae7e885d2d9"
      },
      "source": [
        "from sklearn.naive_bayes import MultinomialNB\n",
        "from sklearn import metrics\n",
        "\n",
        "nb_classifier = MultinomialNB()\n",
        "\n",
        "nb_classifier.fit(train_tfIdf, y_train)\n",
        "\n",
        "pred2 = nb_classifier.predict(test_tfIdf) \n",
        "print(pred2[:10])"
      ],
      "execution_count": null,
      "outputs": [
        {
          "output_type": "stream",
          "text": [
            "['N' 'N' 'N' 'N' 'N' 'N' 'N' 'N' 'N' 'N']\n"
          ],
          "name": "stdout"
        }
      ]
    },
    {
      "cell_type": "code",
      "metadata": {
        "colab": {
          "base_uri": "https://localhost:8080/"
        },
        "id": "5uvUE_PsnlvR",
        "outputId": "8d258b8b-a838-4266-af6b-e65e0c09a468"
      },
      "source": [
        "accuracy_tfidf = metrics.accuracy_score(y_test, pred2)\n",
        "print(accuracy_tfidf)\n",
        "\n",
        "Conf_metrics_tfidf = metrics.confusion_matrix(y_test, pred2, labels=['Y', 'N'])\n",
        "print(Conf_metrics_tfidf)"
      ],
      "execution_count": null,
      "outputs": [
        {
          "output_type": "stream",
          "text": [
            "0.9368521260841972\n",
            "[[ 265  428]\n",
            " [ 169 8592]]\n"
          ],
          "name": "stdout"
        }
      ]
    },
    {
      "cell_type": "code",
      "metadata": {
        "colab": {
          "base_uri": "https://localhost:8080/"
        },
        "id": "tYSRRePAnoKS",
        "outputId": "f4466421-1ebe-4e89-edc1-c0360c7bdb86"
      },
      "source": [
        "from sklearn.ensemble import RandomForestClassifier\n",
        "from sklearn.metrics import confusion_matrix\n",
        "\n",
        "classifier = RandomForestClassifier(n_estimators = 10, criterion = 'entropy', random_state = 100)\n",
        "\n",
        "classifier.fit(train_tfIdf, y_train)"
      ],
      "execution_count": null,
      "outputs": [
        {
          "output_type": "execute_result",
          "data": {
            "text/plain": [
              "RandomForestClassifier(bootstrap=True, ccp_alpha=0.0, class_weight=None,\n",
              "                       criterion='entropy', max_depth=None, max_features='auto',\n",
              "                       max_leaf_nodes=None, max_samples=None,\n",
              "                       min_impurity_decrease=0.0, min_impurity_split=None,\n",
              "                       min_samples_leaf=1, min_samples_split=2,\n",
              "                       min_weight_fraction_leaf=0.0, n_estimators=10,\n",
              "                       n_jobs=None, oob_score=False, random_state=100,\n",
              "                       verbose=0, warm_start=False)"
            ]
          },
          "metadata": {
            "tags": []
          },
          "execution_count": 7
        }
      ]
    },
    {
      "cell_type": "code",
      "metadata": {
        "colab": {
          "base_uri": "https://localhost:8080/"
        },
        "id": "JxOjS117nrz4",
        "outputId": "77815990-e7e2-4596-b463-6382cae2b293"
      },
      "source": [
        "predRF = classifier.predict(test_tfIdf) \n",
        "print(predRF[:10])\n",
        "\n",
        "accuracy_RF = metrics.accuracy_score(y_test, predRF)\n",
        "print(accuracy_RF)\n",
        "\n",
        "Conf_metrics_RF = metrics.confusion_matrix(y_test, predRF, labels=['Y', 'N'])\n",
        "print(Conf_metrics_RF)"
      ],
      "execution_count": null,
      "outputs": [
        {
          "output_type": "stream",
          "text": [
            "['N' 'N' 'N' 'N' 'N' 'N' 'N' 'N' 'N' 'N']\n",
            "0.9479585360693886\n",
            "[[ 253  440]\n",
            " [  52 8709]]\n"
          ],
          "name": "stdout"
        }
      ]
    },
    {
      "cell_type": "code",
      "metadata": {
        "id": "eLJK1cfwnsk5"
      },
      "source": [
        ""
      ],
      "execution_count": null,
      "outputs": []
    },
    {
      "cell_type": "code",
      "metadata": {
        "id": "i3ldYJ58nvId"
      },
      "source": [
        ""
      ],
      "execution_count": null,
      "outputs": []
    }
  ]
}